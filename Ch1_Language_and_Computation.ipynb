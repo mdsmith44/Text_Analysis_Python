{
 "cells": [
  {
   "cell_type": "markdown",
   "metadata": {},
   "source": [
    "Example of converting language to numerical features we can compute on using gender."
   ]
  },
  {
   "cell_type": "code",
   "execution_count": 1,
   "metadata": {},
   "outputs": [],
   "source": [
    "#Explore whether news articles are about males, females, both, or unknown\n",
    "MALE = 'male'\n",
    "FEMALE = 'female'\n",
    "UNKNOWN = 'unknown'\n",
    "BOTH = 'both'\n",
    "\n",
    "MALE_WORDS = set([\n",
    "    'guy','spokesman','chairman',\"men's\",'men','him',\"he's\",'his',\n",
    "    'boy','boyfriend','boyfriends','boys','brother','brothers','dad',\n",
    "    'dads','dude','father','fathers','fiance','gentleman','gentlemen',\n",
    "    'god','grandfather','grandpa','grandson','groom','he','himself',\n",
    "    'husband','husbands','king','male','man','mr','nephew','nephews',\n",
    "    'priest','prince','son','sons','uncle','uncles','waiter','widower',\n",
    "    'widowers'\n",
    "])\n",
    "\n",
    "FEMALE_WORDS = set([\n",
    "    'heroine','spokeswoman','chairwoman',\"women's\",'actress','women',\n",
    "    \"she's\",'her','aunt','aunts','bride','daughter','daughters','female',\n",
    "    'fiancee','girl','girlfriend','girlfriends','girls','goddess',\n",
    "    'granddaughter','grandma','grandmother','herself','ladies','lady',\n",
    "    'lady','mom','moms','mother','mothers','mrs','ms','niece','nieces',\n",
    "    'priestess','princess','queens','she','sister','sisters','waitress',\n",
    "    'widow','widows','wife','wives','woman'\n",
    "])"
   ]
  },
  {
   "cell_type": "code",
   "execution_count": 2,
   "metadata": {},
   "outputs": [],
   "source": [
    "#Define function to assign sentances based on # of male and female words\n",
    "def genderize(words):\n",
    "\n",
    "    mwlen = len(MALE_WORDS.intersection(words))\n",
    "    fwlen = len(FEMALE_WORDS.intersection(words))\n",
    "\n",
    "    if mwlen > 0 and fwlen == 0:\n",
    "        return MALE\n",
    "    elif mwlen == 0 and fwlen > 0:\n",
    "        return FEMALE\n",
    "    elif mwlen > 0 and fwlen > 0:\n",
    "        return BOTH\n",
    "    else:\n",
    "        return UNKNOWN"
   ]
  },
  {
   "cell_type": "code",
   "execution_count": 5,
   "metadata": {},
   "outputs": [
    {
     "data": {
      "text/plain": [
       "'he is old'"
      ]
     },
     "execution_count": 5,
     "metadata": {},
     "output_type": "execute_result"
    }
   ],
   "source": [
    "'He is old'.lower()"
   ]
  },
  {
   "cell_type": "code",
   "execution_count": 9,
   "metadata": {},
   "outputs": [
    {
     "data": {
      "text/plain": [
       "'male'"
      ]
     },
     "execution_count": 9,
     "metadata": {},
     "output_type": "execute_result"
    }
   ],
   "source": [
    "phrase = 'He is old'\n",
    "words = set(phrase.lower().split())\n",
    "words\n",
    "genderize(words)"
   ]
  },
  {
   "cell_type": "markdown",
   "metadata": {},
   "source": [
    "Now create function to keep track of number of male and female sentences in larger body of text."
   ]
  },
  {
   "cell_type": "code",
   "execution_count": 10,
   "metadata": {},
   "outputs": [],
   "source": [
    "from collections import Counter\n",
    "\n",
    "def count_gender(sentences):\n",
    "\n",
    "    sents = Counter()\n",
    "    words = Counter()\n",
    "\n",
    "    for sentence in sentences:\n",
    "        gender = genderize(sentence)\n",
    "        sents[gender] += 1\n",
    "        words[gender] += len(sentence)\n",
    "\n",
    "    return sents, words"
   ]
  },
  {
   "cell_type": "markdown",
   "metadata": {},
   "source": [
    "Finally, utilize nltk to read raw text and break it into component words and sentences"
   ]
  },
  {
   "cell_type": "code",
   "execution_count": 11,
   "metadata": {},
   "outputs": [],
   "source": [
    "import nltk\n",
    "\n",
    "def parse_gender(text):\n",
    "\n",
    "    sentences = [\n",
    "        [word.lower() for word in nltk.word_tokenize(sentence)]\n",
    "        for sentence in nltk.sent_tokenize(text)\n",
    "    ]\n",
    "\n",
    "    sents, words = count_gender(sentences)\n",
    "    total = sum(words.values())\n",
    "\n",
    "    for gender, count in words.items():\n",
    "        pcent = (count / total) * 100\n",
    "        nsents = sents[gender]\n",
    "\n",
    "        print(\n",
    "            \"{0.3f}% {} ({} sentences)\".format(pcent, gender, nsents)\n",
    "        )"
   ]
  },
  {
   "cell_type": "code",
   "execution_count": null,
   "metadata": {},
   "outputs": [],
   "source": []
  }
 ],
 "metadata": {
  "kernelspec": {
   "display_name": "Python 3",
   "language": "python",
   "name": "python3"
  },
  "language_info": {
   "codemirror_mode": {
    "name": "ipython",
    "version": 3
   },
   "file_extension": ".py",
   "mimetype": "text/x-python",
   "name": "python",
   "nbconvert_exporter": "python",
   "pygments_lexer": "ipython3",
   "version": "3.8.3"
  }
 },
 "nbformat": 4,
 "nbformat_minor": 4
}
